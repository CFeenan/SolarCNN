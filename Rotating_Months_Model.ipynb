{
  "nbformat": 4,
  "nbformat_minor": 0,
  "metadata": {
    "colab": {
      "provenance": [],
      "authorship_tag": "ABX9TyP2MgcQnUbKAgL8TcvS2LG9",
      "include_colab_link": true
    },
    "kernelspec": {
      "name": "python3",
      "display_name": "Python 3"
    },
    "language_info": {
      "name": "python"
    }
  },
  "cells": [
    {
      "cell_type": "markdown",
      "metadata": {
        "id": "view-in-github",
        "colab_type": "text"
      },
      "source": [
        "<a href=\"https://colab.research.google.com/github/CFeenan/SolarCNN/blob/master/Rotating_Months_Model.ipynb\" target=\"_parent\"><img src=\"https://colab.research.google.com/assets/colab-badge.svg\" alt=\"Open In Colab\"/></a>"
      ]
    },
    {
      "cell_type": "code",
      "execution_count": 5,
      "metadata": {
        "id": "125WEcJWZ94M"
      },
      "outputs": [],
      "source": [
        "import numpy as np\n",
        "\n",
        "\n",
        "months = [\"june\", \"july\", \"august\", \"september\", \"october\", \"november\"]\n",
        "\n",
        "month_to_data = {\n",
        "    month: {\n",
        "        \"X\": np.load(f\"X_{month}.npy\"),\n",
        "        \"y\": np.load(f\"y_{month}.npy\")\n",
        "    }\n",
        "    for month in months\n",
        "}\n",
        "\n",
        "folds = [\n",
        "    ([\"july\", \"august\", \"september\", \"october\", \"november\"], \"june\"),\n",
        "    ([\"june\", \"august\", \"september\", \"october\", \"november\"], \"july\"),\n",
        "    ([\"june\", \"july\", \"september\", \"october\", \"november\"], \"august\"),\n",
        "    ([\"june\", \"july\", \"august\", \"october\", \"november\"], \"september\"),\n",
        "    ([\"june\", \"july\", \"august\", \"september\", \"november\"], \"october\"),\n",
        "    ([\"june\", \"july\", \"august\", \"september\", \"october\"], \"november\")\n",
        "]\n"
      ]
    },
    {
      "cell_type": "code",
      "source": [
        "import torch\n",
        "import torch.nn as nn\n",
        "\n",
        "class CNN1D(nn.Module):\n",
        "    def __init__(self):\n",
        "        super(CNN1D, self).__init__()\n",
        "\n",
        "        # Convolutional layers\n",
        "        self.conv1 = nn.Conv1d(in_channels=3, out_channels=32, kernel_size=3, padding=1)\n",
        "        self.bn1 = nn.BatchNorm1d(32)\n",
        "\n",
        "        self.conv2 = nn.Conv1d(32, 64, kernel_size=3, padding=1)\n",
        "        self.bn2 = nn.BatchNorm1d(64)\n",
        "\n",
        "        self.conv3 = nn.Conv1d(64, 128, kernel_size=3, padding=1)\n",
        "        self.bn3 = nn.BatchNorm1d(128)\n",
        "\n",
        "        self.pool = nn.MaxPool1d(kernel_size=2)\n",
        "\n",
        "        # Fully connected layers\n",
        "        self.fc1 = nn.Linear(128 * 7, 64)  # 61 → 30 → 15 → 7 (after 3 poolings)\n",
        "        self.dropout = nn.Dropout(0.3)\n",
        "        self.fc2 = nn.Linear(64, 1)  # Output is a single logit\n",
        "\n",
        "    def forward(self, x):\n",
        "        x = self.pool(torch.relu(self.bn1(self.conv1(x))))\n",
        "        x = self.pool(torch.relu(self.bn2(self.conv2(x))))\n",
        "        x = self.pool(torch.relu(self.bn3(self.conv3(x))))  # Now shape: (batch, 128, 7)\n",
        "        x = x.view(x.size(0), -1)\n",
        "        x = torch.relu(self.fc1(x))\n",
        "        x = self.dropout(x)\n",
        "        x = self.fc2(x)\n",
        "        return x  # No sigmoid here — handled in BCEWithLogitsLoss\n"
      ],
      "metadata": {
        "id": "I7gyCbiobBV4"
      },
      "execution_count": 6,
      "outputs": []
    },
    {
      "cell_type": "code",
      "source": [
        "import numpy as np\n",
        "import torch\n",
        "import torch.nn as nn\n",
        "import torch.optim as optim\n",
        "from torch.utils.data import TensorDataset, DataLoader\n",
        "from sklearn.metrics import accuracy_score, precision_score, recall_score, f1_score\n",
        "\n",
        "# Device config\n",
        "device = torch.device(\"cuda\" if torch.cuda.is_available() else \"cpu\")\n",
        "\n",
        "# Collect results\n",
        "results = []\n",
        "# Run all folds\n",
        "for fold_index, (train_months, test_month) in enumerate(folds):\n",
        "\n",
        "    print(f\"\\n Fold {fold_index + 1} — Test Month: {test_month}\")\n",
        "\n",
        "    # Prepare data\n",
        "    X_train = np.concatenate([month_to_data[m][\"X\"] for m in train_months])\n",
        "    y_train = np.concatenate([month_to_data[m][\"y\"] for m in train_months])\n",
        "    X_test = month_to_data[test_month][\"X\"]\n",
        "    y_test = month_to_data[test_month][\"y\"]\n",
        "\n",
        "    # Convert to tensors\n",
        "    X_train_tensor = torch.tensor(X_train, dtype=torch.float32)\n",
        "    y_train_tensor = torch.tensor(y_train, dtype=torch.float32)\n",
        "    X_test_tensor = torch.tensor(X_test, dtype=torch.float32)\n",
        "    y_test_tensor = torch.tensor(y_test, dtype=torch.float32)\n",
        "\n",
        "    train_loader = DataLoader(TensorDataset(X_train_tensor, y_train_tensor), batch_size=64, shuffle=True)\n",
        "    test_loader = DataLoader(TensorDataset(X_test_tensor, y_test_tensor), batch_size=64)\n",
        "\n",
        "    model = CNN1D().to(device)\n",
        "    pos_weight = torch.tensor([2.0], dtype=torch.float32).to(device)  # Fixed pos_weight for consistency\n",
        "    criterion = nn.BCEWithLogitsLoss(pos_weight=pos_weight)\n",
        "    optimizer = optim.Adam(model.parameters(), lr=0.0005)\n",
        "\n",
        "    # Train\n",
        "    model.train()\n",
        "    for epoch in range(30):\n",
        "        for inputs, labels in train_loader:\n",
        "            inputs, labels = inputs.to(device), labels.to(device)\n",
        "            outputs = model(inputs).squeeze()\n",
        "            loss = criterion(outputs, labels)\n",
        "            optimizer.zero_grad()\n",
        "            loss.backward()\n",
        "            optimizer.step()\n",
        "\n",
        "    # Evaluate\n",
        "    model.eval()\n",
        "    all_preds, all_labels = [], []\n",
        "\n",
        "    with torch.no_grad():\n",
        "        for inputs, labels in test_loader:\n",
        "            inputs = inputs.to(device)\n",
        "            outputs = model(inputs).squeeze()\n",
        "            preds = (torch.sigmoid(outputs) > 0.45).int().cpu().numpy()\n",
        "            all_preds.extend(preds)\n",
        "            all_labels.extend(labels.numpy())\n",
        "\n",
        "    acc = accuracy_score(all_labels, all_preds)\n",
        "    prec = precision_score(all_labels, all_preds)\n",
        "    rec = recall_score(all_labels, all_preds)\n",
        "    f1 = f1_score(all_labels, all_preds)\n",
        "\n",
        "    print(f\"Accuracy: {acc:.3f} | Precision (Faulty): {prec:.3f} | Recall (Faulty): {rec:.3f} | F1 (Faulty): {f1:.3f}\")\n"
      ],
      "metadata": {
        "colab": {
          "base_uri": "https://localhost:8080/"
        },
        "id": "-kipO19fbNTB",
        "outputId": "e0ee0991-a12a-4461-af2d-033aab76346d"
      },
      "execution_count": 7,
      "outputs": [
        {
          "output_type": "stream",
          "name": "stdout",
          "text": [
            "\n",
            "🔁 Fold 1 — Test Month: june\n",
            "Accuracy: 0.891 | Precision (Faulty): 0.688 | Recall (Faulty): 0.994 | F1 (Faulty): 0.814\n",
            "\n",
            "🔁 Fold 2 — Test Month: july\n",
            "Accuracy: 0.900 | Precision (Faulty): 0.746 | Recall (Faulty): 0.883 | F1 (Faulty): 0.809\n",
            "\n",
            "🔁 Fold 3 — Test Month: august\n",
            "Accuracy: 0.947 | Precision (Faulty): 0.912 | Recall (Faulty): 0.861 | F1 (Faulty): 0.886\n",
            "\n",
            "🔁 Fold 4 — Test Month: september\n",
            "Accuracy: 0.943 | Precision (Faulty): 0.855 | Recall (Faulty): 0.917 | F1 (Faulty): 0.885\n",
            "\n",
            "🔁 Fold 5 — Test Month: october\n",
            "Accuracy: 0.952 | Precision (Faulty): 0.939 | Recall (Faulty): 0.856 | F1 (Faulty): 0.895\n",
            "\n",
            "🔁 Fold 6 — Test Month: november\n",
            "Accuracy: 0.924 | Precision (Faulty): 0.829 | Recall (Faulty): 0.861 | F1 (Faulty): 0.845\n"
          ]
        }
      ]
    }
  ]
}