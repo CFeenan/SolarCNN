{
  "nbformat": 4,
  "nbformat_minor": 0,
  "metadata": {
    "colab": {
      "provenance": [],
      "authorship_tag": "ABX9TyNdqsL7UtIsyzAL0ohqHFny",
      "include_colab_link": true
    },
    "kernelspec": {
      "name": "python3",
      "display_name": "Python 3"
    },
    "language_info": {
      "name": "python"
    }
  },
  "cells": [
    {
      "cell_type": "markdown",
      "metadata": {
        "id": "view-in-github",
        "colab_type": "text"
      },
      "source": [
        "<a href=\"https://colab.research.google.com/github/CFeenan/SolarCNN/blob/master/ConcatenateData.ipynb\" target=\"_parent\"><img src=\"https://colab.research.google.com/assets/colab-badge.svg\" alt=\"Open In Colab\"/></a>"
      ]
    },
    {
      "cell_type": "code",
      "execution_count": 1,
      "metadata": {
        "id": "aoh57IoTbojV"
      },
      "outputs": [],
      "source": [
        "import numpy as np\n",
        "\n",
        "# Load training months\n",
        "X_june = np.load(\"X_june.npy\")\n",
        "y_june = np.load(\"y_june.npy\")\n",
        "\n",
        "X_july = np.load(\"X_july.npy\")\n",
        "y_july = np.load(\"y_july.npy\")\n",
        "\n",
        "X_august = np.load(\"X_august.npy\")\n",
        "y_august = np.load(\"y_august.npy\")\n",
        "\n",
        "X_september = np.load(\"X_september.npy\")\n",
        "y_september = np.load(\"y_september.npy\")\n",
        "\n",
        "X_october = np.load(\"X_october.npy\")\n",
        "y_october = np.load(\"y_october.npy\")\n",
        "\n",
        "# Load test month (November)\n",
        "X_november = np.load(\"X_november.npy\")\n",
        "y_november = np.load(\"y_november.npy\")\n"
      ]
    },
    {
      "cell_type": "code",
      "source": [
        "# Combine all months except November for training\n",
        "X_train = np.concatenate([X_june, X_july, X_august, X_september, X_october], axis=0)\n",
        "y_train = np.concatenate([y_june, y_july, y_august, y_september, y_october], axis=0)\n",
        "\n",
        "# Set test data\n",
        "X_test = X_november\n",
        "y_test = y_november\n"
      ],
      "metadata": {
        "id": "8PeknRm1dX17"
      },
      "execution_count": 2,
      "outputs": []
    },
    {
      "cell_type": "code",
      "source": [
        "print(\"✅ X_train shape:\", X_train.shape)\n",
        "print(\"✅ y_train shape:\", y_train.shape)\n",
        "\n",
        "print(\"🧪 X_test shape:\", X_test.shape)\n",
        "print(\"🧪 y_test shape:\", y_test.shape)\n",
        "\n",
        "# Optional: Check class distribution\n",
        "print(\"📊 y_train distribution:\", np.bincount(y_train))\n",
        "print(\"📊 y_test distribution:\", np.bincount(y_test))\n"
      ],
      "metadata": {
        "colab": {
          "base_uri": "https://localhost:8080/"
        },
        "id": "44UC-8OgdbfQ",
        "outputId": "07016944-f84c-4ca5-e854-0e4fad2364e2"
      },
      "execution_count": 3,
      "outputs": [
        {
          "output_type": "stream",
          "name": "stdout",
          "text": [
            "✅ X_train shape: (3750, 3, 61)\n",
            "✅ y_train shape: (3750,)\n",
            "🧪 X_test shape: (750, 3, 61)\n",
            "🧪 y_test shape: (750,)\n",
            "📊 y_train distribution: [2850  900]\n",
            "📊 y_test distribution: [570 180]\n"
          ]
        }
      ]
    }
  ]
}